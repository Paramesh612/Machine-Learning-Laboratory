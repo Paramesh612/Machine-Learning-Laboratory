{
 "cells": [
  {
   "cell_type": "code",
   "execution_count": 8,
   "id": "dd47e6c5",
   "metadata": {},
   "outputs": [
    {
     "name": "stdout",
     "output_type": "stream",
     "text": [
      "Weights:  [0. 0. 0.]\n"
     ]
    },
    {
     "ename": "NameError",
     "evalue": "name 'sigmoid' is not defined",
     "output_type": "error",
     "traceback": [
      "\u001b[1;31m---------------------------------------------------------------------------\u001b[0m",
      "\u001b[1;31mNameError\u001b[0m                                 Traceback (most recent call last)",
      "Cell \u001b[1;32mIn[8], line 47\u001b[0m\n\u001b[0;32m     44\u001b[0m y \u001b[38;5;241m=\u001b[39m np\u001b[38;5;241m.\u001b[39marray([\u001b[38;5;241m0\u001b[39m,\u001b[38;5;241m1\u001b[39m,\u001b[38;5;241m0\u001b[39m,\u001b[38;5;241m1\u001b[39m])\n\u001b[0;32m     46\u001b[0m p \u001b[38;5;241m=\u001b[39m perceptron()\n\u001b[1;32m---> 47\u001b[0m \u001b[43mp\u001b[49m\u001b[38;5;241;43m.\u001b[39;49m\u001b[43mfit\u001b[49m\u001b[43m(\u001b[49m\u001b[43mX\u001b[49m\u001b[43m,\u001b[49m\u001b[43my\u001b[49m\u001b[43m)\u001b[49m\n",
      "Cell \u001b[1;32mIn[8], line 29\u001b[0m, in \u001b[0;36mperceptron.fit\u001b[1;34m(self, X, y)\u001b[0m\n\u001b[0;32m     27\u001b[0m error \u001b[38;5;241m=\u001b[39m \u001b[38;5;241m0\u001b[39m\n\u001b[0;32m     28\u001b[0m \u001b[38;5;28;01mfor\u001b[39;00m xi,y \u001b[38;5;129;01min\u001b[39;00m \u001b[38;5;28mzip\u001b[39m(X,y):\n\u001b[1;32m---> 29\u001b[0m     y_pred \u001b[38;5;241m=\u001b[39m \u001b[38;5;28;43mself\u001b[39;49m\u001b[38;5;241;43m.\u001b[39;49m\u001b[43mpredict\u001b[49m\u001b[43m(\u001b[49m\u001b[43mxi\u001b[49m\u001b[43m)\u001b[49m\n\u001b[0;32m     30\u001b[0m     change \u001b[38;5;241m=\u001b[39m eta\u001b[38;5;241m*\u001b[39m(y \u001b[38;5;241m-\u001b[39m y_pred)\n\u001b[0;32m     32\u001b[0m     \u001b[38;5;28mself\u001b[39m\u001b[38;5;241m.\u001b[39mw[\u001b[38;5;241m1\u001b[39m:] \u001b[38;5;241m=\u001b[39m \u001b[38;5;28mself\u001b[39m\u001b[38;5;241m.\u001b[39mw[\u001b[38;5;241m1\u001b[39m:] \u001b[38;5;241m+\u001b[39m change\u001b[38;5;241m*\u001b[39mxi\n",
      "Cell \u001b[1;32mIn[8], line 18\u001b[0m, in \u001b[0;36mperceptron.predict\u001b[1;34m(self, x)\u001b[0m\n\u001b[0;32m     17\u001b[0m \u001b[38;5;28;01mdef\u001b[39;00m \u001b[38;5;21mpredict\u001b[39m(\u001b[38;5;28mself\u001b[39m,x):\n\u001b[1;32m---> 18\u001b[0m     \u001b[38;5;28;01mreturn\u001b[39;00m np\u001b[38;5;241m.\u001b[39mwhere(\u001b[43msigmoid\u001b[49m(\u001b[38;5;28mself\u001b[39m\u001b[38;5;241m.\u001b[39mweighted_sum(x))\u001b[38;5;241m>\u001b[39m\u001b[38;5;241m0.5\u001b[39m,\u001b[38;5;241m1\u001b[39m,\u001b[38;5;241m-\u001b[39m\u001b[38;5;241m1\u001b[39m)\n",
      "\u001b[1;31mNameError\u001b[0m: name 'sigmoid' is not defined"
     ]
    }
   ],
   "source": [
    "import numpy as np\n",
    "class perceptron(object):\n",
    "    def __init__(self, eta = 0.01 , n_iter = 10):\n",
    "        self.eta = eta\n",
    "        self.n_iter = n_iter\n",
    "        \n",
    "    def weighted_sum(self,x):\n",
    "        return np.dot(x,w[1:])+w[0]\n",
    "    \n",
    "    def sigmoid(sum_val): # Sigmoid\n",
    "        val = 1/(1+math.e**(-sum_val))\n",
    "        if(val<=0.5):\n",
    "            return 0\n",
    "        else :\n",
    "            return 1\n",
    "    \n",
    "    def predict(self,x):\n",
    "        return np.where(sigmoid(self.weighted_sum(x))>0.5,1,-1)\n",
    "    \n",
    "    def fit(self,X,y):\n",
    "        self.w = np.zeros(1+X.shape[1])\n",
    "        self.errors = []\n",
    "        \n",
    "        print(\"Weights: \", self.w)\n",
    "        \n",
    "        for _ in range(self.n_iter):\n",
    "            error = 0\n",
    "            for xi,y in zip(X,y):\n",
    "                y_pred = predict(xi)\n",
    "                change = eta*(y - y_pred)\n",
    "                \n",
    "                self.w[1:] = self.w[1:] + change*xi\n",
    "                self.w[0] = self.w[0] + change\n",
    "                \n",
    "                print(\"Updated Weights: \",w)\n",
    "                \n",
    "                error += int(change!=0.0)\n",
    "            self.errors_.append(error)\n",
    "            \n",
    "        return self\n",
    "                    \n",
    "    \n",
    "X = np.array([[0,0],[0,1],[1,0],[1,1]])\n",
    "y = np.array([0,1,0,1])\n",
    "\n",
    "p = perceptron()\n",
    "p.fit(X,y)"
   ]
  },
  {
   "cell_type": "code",
   "execution_count": null,
   "id": "47204ab9",
   "metadata": {},
   "outputs": [],
   "source": []
  }
 ],
 "metadata": {
  "kernelspec": {
   "display_name": "Python 3 (ipykernel)",
   "language": "python",
   "name": "python3"
  },
  "language_info": {
   "codemirror_mode": {
    "name": "ipython",
    "version": 3
   },
   "file_extension": ".py",
   "mimetype": "text/x-python",
   "name": "python",
   "nbconvert_exporter": "python",
   "pygments_lexer": "ipython3",
   "version": "3.10.9"
  }
 },
 "nbformat": 4,
 "nbformat_minor": 5
}
