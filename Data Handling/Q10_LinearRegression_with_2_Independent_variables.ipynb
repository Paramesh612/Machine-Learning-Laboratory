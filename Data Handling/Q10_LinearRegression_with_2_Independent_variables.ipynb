{
 "cells": [
  {
   "cell_type": "code",
   "execution_count": 1,
   "id": "bf8aa492",
   "metadata": {},
   "outputs": [],
   "source": [
    "import pandas as pd"
   ]
  },
  {
   "cell_type": "code",
   "execution_count": 3,
   "id": "48e29d1b",
   "metadata": {},
   "outputs": [
    {
     "name": "stdout",
     "output_type": "stream",
     "text": [
      "   x1  x2   y\n",
      "0   2   1  60\n",
      "1   3   2  65\n",
      "2   4   2  70\n",
      "3   5   3  75\n",
      "4   6   3  80\n"
     ]
    }
   ],
   "source": [
    "# Y = a + (B1)(x1) + (B2)(x2)\n",
    "\n",
    "df = pd.read_excel('input.xlsx')\n",
    "print(df)"
   ]
  },
  {
   "cell_type": "code",
   "execution_count": 10,
   "id": "2575f28e",
   "metadata": {},
   "outputs": [],
   "source": [
    "sum_x1_sq = (df.x1**2).sum()\n",
    "sum_x2_sq = (df.x2**2).sum()\n",
    "sum_x1_y = (df.x1*df.y).sum()\n",
    "sum_x2_y = (df.x2*df.y).sum()\n",
    "sum_x1_x2 = (df.x1*df.x2).sum()"
   ]
  },
  {
   "cell_type": "code",
   "execution_count": 13,
   "id": "beb49ab7",
   "metadata": {},
   "outputs": [
    {
     "name": "stdout",
     "output_type": "stream",
     "text": [
      "6.724137931034483 17.24137931034483\n"
     ]
    }
   ],
   "source": [
    "b1 = ( sum_x2_sq*sum_x1_y - sum_x1_x2*sum_x2_y)/(sum_x1_sq*sum_x2_sq- (sum_x1_x2)**2 )\n",
    "b2 = ( sum_x1_sq*sum_x2_y - sum_x1_x2*sum_x1_y)/(sum_x1_sq*sum_x2_sq- (sum_x1_x2)**2 )\n",
    "\n",
    "print(b1,b2)"
   ]
  },
  {
   "cell_type": "code",
   "execution_count": 18,
   "id": "57ba310d",
   "metadata": {},
   "outputs": [
    {
     "name": "stdout",
     "output_type": "stream",
     "text": [
      "5.172413793103438\n"
     ]
    }
   ],
   "source": [
    "a = ((df.y).mean() - b1*(df.x1).mean() - b2*(df.x2).mean())\n",
    "print(a)"
   ]
  },
  {
   "cell_type": "code",
   "execution_count": 27,
   "id": "c75cd0a8",
   "metadata": {},
   "outputs": [
    {
     "name": "stdout",
     "output_type": "stream",
     "text": [
      "Equation: Y = (6.72)x1 + (17.24)x2 + 5.17 \n"
     ]
    }
   ],
   "source": [
    "print(\"Equation: Y = (%.2f)x1 + (%.2f)x2 + %.2f \"%(b1,b2,a))"
   ]
  },
  {
   "cell_type": "code",
   "execution_count": 28,
   "id": "b84be3c0",
   "metadata": {},
   "outputs": [],
   "source": [
    "df1 = pd.read_excel('test.xlsx')\n",
    "df1['Y_Pred'] = b1*df1.x1 + b2*df1.x2 + a"
   ]
  },
  {
   "cell_type": "code",
   "execution_count": 29,
   "id": "45e05e4f",
   "metadata": {},
   "outputs": [
    {
     "name": "stdout",
     "output_type": "stream",
     "text": [
      "   x1  x2     Y_Pred\n",
      "0   5   3  90.517241\n",
      "1   6   3  97.241379\n"
     ]
    }
   ],
   "source": [
    "print(df1)"
   ]
  },
  {
   "cell_type": "code",
   "execution_count": null,
   "id": "7f8dd9e7",
   "metadata": {},
   "outputs": [],
   "source": []
  }
 ],
 "metadata": {
  "kernelspec": {
   "display_name": "Python 3 (ipykernel)",
   "language": "python",
   "name": "python3"
  },
  "language_info": {
   "codemirror_mode": {
    "name": "ipython",
    "version": 3
   },
   "file_extension": ".py",
   "mimetype": "text/x-python",
   "name": "python",
   "nbconvert_exporter": "python",
   "pygments_lexer": "ipython3",
   "version": "3.10.9"
  }
 },
 "nbformat": 4,
 "nbformat_minor": 5
}
