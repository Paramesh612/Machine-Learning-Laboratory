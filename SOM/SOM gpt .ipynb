{
 "cells": [
  {
   "cell_type": "code",
   "execution_count": 1,
   "id": "590c3246",
   "metadata": {},
   "outputs": [],
   "source": [
    "import numpy as np\n"
   ]
  },
  {
   "cell_type": "code",
   "execution_count": 2,
   "id": "c55686c1",
   "metadata": {},
   "outputs": [],
   "source": [
    "\n",
    "class SelfOrganizingMap:\n",
    "    def __init__(self, x, y, input_len, learning_rate=0.5, sigma=None, num_iterations=1000):\n",
    "        self.x = x\n",
    "        self.y = y\n",
    "        self.input_len = input_len\n",
    "        self.learning_rate = learning_rate\n",
    "        self.sigma = sigma if sigma else max(x, y) / 2\n",
    "        self.num_iterations = num_iterations\n",
    "        self.weights = np.random.rand(x, y, input_len)\n",
    "        self.locations = np.array([[i, j] for i in range(x) for j in range(y)])\n",
    "\n",
    "    def _find_bmu(self, input_vec):\n",
    "        distances = np.linalg.norm(self.weights - input_vec, axis=2)\n",
    "        bmu_idx = np.unravel_index(np.argmin(distances), (self.x, self.y))\n",
    "        return bmu_idx\n",
    "\n",
    "    def _neighborhood_function(self, bmu_idx, iteration):\n",
    "        sigma = self.sigma * np.exp(-iteration / self.num_iterations)\n",
    "        learning_rate = self.learning_rate * np.exp(-iteration / self.num_iterations)\n",
    "        bmu_location = np.array(bmu_idx)\n",
    "\n",
    "        for i in range(self.x):\n",
    "            for j in range(self.y):\n",
    "                node_location = np.array([i, j])\n",
    "                distance_to_bmu = np.linalg.norm(node_location - bmu_location)\n",
    "                influence = np.exp(-(distance_to_bmu ** 2) / (2 * sigma ** 2))\n",
    "                self.weights[i, j] += influence * learning_rate * (self.input_vec - self.weights[i, j])\n",
    "\n",
    "    def train(self, data):\n",
    "        for iteration in range(self.num_iterations):\n",
    "            self.input_vec = data[np.random.randint(0, data.shape[0])]\n",
    "            bmu_idx = self._find_bmu(self.input_vec)\n",
    "            self._neighborhood_function(bmu_idx, iteration)\n",
    "\n",
    "    def map_vects(self, data):\n",
    "        mapped = []\n",
    "        for vec in data:\n",
    "            bmu_idx = self._find_bmu(vec)\n",
    "            mapped.append(bmu_idx)\n",
    "        return mapped\n"
   ]
  },
  {
   "cell_type": "code",
   "execution_count": 3,
   "id": "f65879ef",
   "metadata": {},
   "outputs": [
    {
     "name": "stdout",
     "output_type": "stream",
     "text": [
      "[(2, 0), (0, 1), (0, 0), (0, 1), (2, 0), (5, 1), (0, 0), (1, 1), (0, 1), (0, 1)]\n"
     ]
    }
   ],
   "source": [
    "from sklearn.datasets import load_iris\n",
    "data = load_iris().data\n",
    "\n",
    "som = SelfOrganizingMap(x=10, y=10, input_len=4, learning_rate=0.5, num_iterations=500)\n",
    "som.train(data)\n",
    "\n",
    "mapped = som.map_vects(data)\n",
    "print(mapped[:10])\n"
   ]
  },
  {
   "cell_type": "code",
   "execution_count": null,
   "id": "f0652b05",
   "metadata": {},
   "outputs": [],
   "source": []
  }
 ],
 "metadata": {
  "kernelspec": {
   "display_name": "base",
   "language": "python",
   "name": "python3"
  },
  "language_info": {
   "codemirror_mode": {
    "name": "ipython",
    "version": 3
   },
   "file_extension": ".py",
   "mimetype": "text/x-python",
   "name": "python",
   "nbconvert_exporter": "python",
   "pygments_lexer": "ipython3",
   "version": "3.12.7"
  }
 },
 "nbformat": 4,
 "nbformat_minor": 5
}
