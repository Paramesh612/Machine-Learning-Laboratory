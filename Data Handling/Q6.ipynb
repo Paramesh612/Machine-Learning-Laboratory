{
 "cells": [
  {
   "cell_type": "code",
   "execution_count": 1,
   "id": "e8e74fa4",
   "metadata": {},
   "outputs": [],
   "source": [
    "import numpy as np\n",
    "from scipy import stats as st"
   ]
  },
  {
   "cell_type": "code",
   "execution_count": 2,
   "id": "916bb988",
   "metadata": {
    "scrolled": true
   },
   "outputs": [
    {
     "name": "stdout",
     "output_type": "stream",
     "text": [
      "[ 6  8 12  2 10 11 12 11  6  3 16  8 10 10 11]\n"
     ]
    }
   ],
   "source": [
    "arr = np.random.randint(1,high=20,size=15)\n",
    "print(arr)"
   ]
  },
  {
   "cell_type": "code",
   "execution_count": 3,
   "id": "698c22b6",
   "metadata": {},
   "outputs": [],
   "source": [
    "minVal = arr.min()\n",
    "maxVal = arr.max()\n",
    "mean = arr.mean()\n",
    "\n",
    "arr=np.sort(arr)\n",
    "\n",
    "def findMedian(arr):\n",
    "    if(len(arr)%2==1):\n",
    "        return arr[int(len(arr)/2)]\n",
    "    else:\n",
    "        return (arr[int(len(arr)/2)]+arr[(int(len(arr)/2) )-1]) /2\n",
    "    \n",
    "median = findMedian(arr)\n",
    "mode = st.mode(arr,keepdims=False)"
   ]
  },
  {
   "cell_type": "code",
   "execution_count": 4,
   "id": "ab8ef4ea",
   "metadata": {},
   "outputs": [],
   "source": [
    "std = np.std(arr)"
   ]
  },
  {
   "cell_type": "code",
   "execution_count": 5,
   "id": "ffccdd2c",
   "metadata": {},
   "outputs": [
    {
     "name": "stdout",
     "output_type": "stream",
     "text": [
      "Min:  2\n",
      "Max:  16\n",
      "Mean:  9.066666666666666\n",
      "Median:  10\n",
      "Mode:  10\n"
     ]
    }
   ],
   "source": [
    "print(\"Min: \",minVal)\n",
    "print(\"Max: \",maxVal)\n",
    "print(\"Mean: \",mean)\n",
    "print(\"Median: \",median)\n",
    "print(\"Mode: \",mode.mode)"
   ]
  },
  {
   "cell_type": "code",
   "execution_count": null,
   "id": "6896b699",
   "metadata": {},
   "outputs": [],
   "source": []
  },
  {
   "cell_type": "code",
   "execution_count": 6,
   "id": "cac97640",
   "metadata": {},
   "outputs": [
    {
     "name": "stdout",
     "output_type": "stream",
     "text": [
      "arr:  [ 2  3  6  6  8  8 10 10 10 11 11 11 12 12 16]\n",
      "After Masking:  [ 6  6  8  8 10 10 10 11 11 11 12 12 16]\n",
      "Number of elements:  13\n"
     ]
    }
   ],
   "source": [
    "#Q7 Boolean Masking\n",
    "\n",
    "print(\"arr: \",arr)\n",
    "print(\"After Masking: \",arr[arr>5])\n",
    "print(\"Number of elements: \",len(arr[arr>5]))\n"
   ]
  },
  {
   "cell_type": "code",
   "execution_count": 7,
   "id": "225a2789",
   "metadata": {},
   "outputs": [],
   "source": [
    "#Q8 Fancy Indexing\n",
    "ind = np.random.randint(low=0,high=len(arr),size=7)"
   ]
  },
  {
   "cell_type": "code",
   "execution_count": 8,
   "id": "68f21a6e",
   "metadata": {},
   "outputs": [
    {
     "name": "stdout",
     "output_type": "stream",
     "text": [
      "arr:  [ 2  3  6  6  8  8 10 10 10 11 11 11 12 12 16]\n",
      "Fancy Indexing with indices:  [ 3  0  4 14  4  6 10]\n",
      "Selected Elements:  [ 6  2  8 16  8 10 11]\n",
      "Every Other Element:  [ 3  6  8 10 10 11 11 12 12]\n"
     ]
    }
   ],
   "source": [
    "print(\"arr: \",arr)\n",
    "print(\"Fancy Indexing with indices: \",ind)\n",
    "print(\"Selected Elements: \",arr[ind])\n",
    "otherEl = np.arange(0,len(arr))\n",
    "for i in ind:\n",
    "    otherEl = np.delete(otherEl,np.where(otherEl==i))\n",
    "print(\"Every Other Element: \",arr[otherEl])"
   ]
  },
  {
   "cell_type": "code",
   "execution_count": null,
   "id": "59a53958",
   "metadata": {},
   "outputs": [],
   "source": []
  }
 ],
 "metadata": {
  "kernelspec": {
   "display_name": "Python 3 (ipykernel)",
   "language": "python",
   "name": "python3"
  },
  "language_info": {
   "codemirror_mode": {
    "name": "ipython",
    "version": 3
   },
   "file_extension": ".py",
   "mimetype": "text/x-python",
   "name": "python",
   "nbconvert_exporter": "python",
   "pygments_lexer": "ipython3",
   "version": "3.10.9"
  }
 },
 "nbformat": 4,
 "nbformat_minor": 5
}
