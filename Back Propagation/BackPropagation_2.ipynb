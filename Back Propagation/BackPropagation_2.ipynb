{
 "cells": [
  {
   "cell_type": "code",
   "execution_count": null,
   "id": "4d402423",
   "metadata": {},
   "outputs": [
    {
     "ename": "",
     "evalue": "",
     "output_type": "error",
     "traceback": [
      "\u001b[1;31mRunning cells with 'Python 3.11.7' requires the ipykernel package.\n",
      "\u001b[1;31mRun the following command to install 'ipykernel' into the Python environment. \n",
      "\u001b[1;31mCommand: 'c:/msys64/ucrt64/bin/python3.exe -m pip install ipykernel -U --user --force-reinstall'"
     ]
    }
   ],
   "source": [
    "import numpy as np\n",
    "import matplotlib.pyplot as plt "
   ]
  },
  {
   "cell_type": "code",
   "execution_count": null,
   "id": "b5ce546b",
   "metadata": {},
   "outputs": [
    {
     "ename": "NameError",
     "evalue": "name 'plt' is not defined",
     "output_type": "error",
     "traceback": [
      "\u001b[1;31m---------------------------------------------------------------------------\u001b[0m",
      "\u001b[1;31mNameError\u001b[0m                                 Traceback (most recent call last)",
      "Cell \u001b[1;32mIn[9], line 62\u001b[0m\n\u001b[0;32m     59\u001b[0m y \u001b[38;5;241m=\u001b[39m np\u001b[38;5;241m.\u001b[39marray([[\u001b[38;5;241m0\u001b[39m], [\u001b[38;5;241m0\u001b[39m], [\u001b[38;5;241m0\u001b[39m], [\u001b[38;5;241m0\u001b[39m], [\u001b[38;5;241m0\u001b[39m], [\u001b[38;5;241m0\u001b[39m], [\u001b[38;5;241m0\u001b[39m], [\u001b[38;5;241m1\u001b[39m]])\n\u001b[0;32m     61\u001b[0m nn \u001b[38;5;241m=\u001b[39m NeuralNetwork(input_size\u001b[38;5;241m=\u001b[39m\u001b[38;5;241m3\u001b[39m, hidden_size\u001b[38;5;241m=\u001b[39m\u001b[38;5;241m2\u001b[39m, output_size\u001b[38;5;241m=\u001b[39m\u001b[38;5;241m1\u001b[39m)\n\u001b[1;32m---> 62\u001b[0m \u001b[43mnn\u001b[49m\u001b[38;5;241;43m.\u001b[39;49m\u001b[43mtrain\u001b[49m\u001b[43m(\u001b[49m\u001b[43mX\u001b[49m\u001b[43m,\u001b[49m\u001b[43m \u001b[49m\u001b[43my\u001b[49m\u001b[43m,\u001b[49m\u001b[43m \u001b[49m\u001b[43mepochs\u001b[49m\u001b[38;5;241;43m=\u001b[39;49m\u001b[38;5;241;43m1000\u001b[39;49m\u001b[43m,\u001b[49m\u001b[43m \u001b[49m\u001b[43mlearning_rate\u001b[49m\u001b[38;5;241;43m=\u001b[39;49m\u001b[38;5;241;43m0.1\u001b[39;49m\u001b[43m)\u001b[49m  \u001b[38;5;66;03m# 1000 iterations are not enough. Model predicts wrongly depending on the initial random value\u001b[39;00m\n\u001b[0;32m     64\u001b[0m \u001b[38;5;66;03m# Test the trained model\u001b[39;00m\n\u001b[0;32m     65\u001b[0m output \u001b[38;5;241m=\u001b[39m nn\u001b[38;5;241m.\u001b[39mfeedforward(X)\n",
      "Cell \u001b[1;32mIn[9], line 55\u001b[0m, in \u001b[0;36mNeuralNetwork.train\u001b[1;34m(self, X, y, epochs, learning_rate)\u001b[0m\n\u001b[0;32m     51\u001b[0m     err_arr\u001b[38;5;241m.\u001b[39mappend(loss)\n\u001b[0;32m     52\u001b[0m     iter_arr\u001b[38;5;241m.\u001b[39mappend(epoch)\n\u001b[1;32m---> 55\u001b[0m \u001b[43mplt\u001b[49m\u001b[38;5;241m.\u001b[39mplot(iter_arr,err_arr)\n",
      "\u001b[1;31mNameError\u001b[0m: name 'plt' is not defined"
     ]
    }
   ],
   "source": [
    "\n",
    "class NeuralNetwork:\n",
    "    def __init__(self, input_size, hidden_size, output_size):\n",
    "        self.input_size = input_size\n",
    "        self.hidden_size = hidden_size\n",
    "        self.output_size = output_size\n",
    "\n",
    "        self.weights_input_hidden = np.random.randn(self.input_size, self.hidden_size)\n",
    "        self.weights_hidden_output = np.random.randn(self.hidden_size, self.output_size)\n",
    "\n",
    "        self.bias_hidden = np.zeros((1, self.hidden_size))\n",
    "        self.bias_output = np.zeros((1, self.output_size))\n",
    "\n",
    "    def sigmoid(self, x):\n",
    "        return 1 / (1 + np.exp(-x))\n",
    "\n",
    "    def sigmoid_derivative(self, x):\n",
    "        return x * (1 - x)\n",
    "\n",
    "    def feedforward(self, X):\n",
    "        self.hidden_activation = np.dot(X, self.weights_input_hidden) + self.bias_hidden\n",
    "        self.hidden_output = self.sigmoid(self.hidden_activation)\n",
    "\n",
    "        self.output_activation = np.dot(self.hidden_output, self.weights_hidden_output) + self.bias_output\n",
    "        self.predicted_output = self.sigmoid(self.output_activation)\n",
    "\n",
    "        return self.predicted_output\n",
    "\n",
    "    def backward(self, X, y, learning_rate):\n",
    "        output_error = y - self.predicted_output\n",
    "        output_delta = output_error * self.sigmoid_derivative(self.predicted_output)\n",
    "\n",
    "        hidden_error = np.dot(output_delta, self.weights_hidden_output.T)\n",
    "        hidden_delta = hidden_error * self.sigmoid_derivative(self.hidden_output)\n",
    "\n",
    "        self.weights_hidden_output += np.dot(self.hidden_output.T, output_delta) * learning_rate\n",
    "        self.bias_output += np.sum(output_delta, axis=0, keepdims=True) * learning_rate\n",
    "        self.weights_input_hidden += np.dot(X.T, hidden_delta) * learning_rate\n",
    "        self.bias_hidden += np.sum(hidden_delta, axis=0, keepdims=True) * learning_rate\n",
    "\n",
    "    def train(self, X, y, epochs, learning_rate):\n",
    "        err_arr = []\n",
    "        iter_arr = []\n",
    "        for epoch in range(epochs):\n",
    "            output = self.feedforward(X)\n",
    "            self.backward(X, y, learning_rate)\n",
    "            \n",
    "            # if epoch % 4000 == 0:\n",
    "            loss = np.mean(np.square(y - output))\n",
    "                # print(f\"Epoch {epoch}, Loss:{loss}\")\n",
    "                \n",
    "            err_arr.append(loss)\n",
    "            iter_arr.append(epoch)\n",
    "            \n",
    "            \n",
    "        plt.plot(iter_arr,err_arr)\n",
    "        \n",
    "\n",
    "X = np.array([[0, 0,0], [0,0, 1], [0,1, 0], [0, 1, 1], [1,0,0], [1,0,1], [1,1,0], [1,1,1]  ])\n",
    "y = np.array([[0], [0], [0], [0], [0], [0], [0], [1]])\n",
    "\n",
    "nn = NeuralNetwork(input_size=3, hidden_size=2, output_size=1)\n",
    "nn.train(X, y, epochs=1000, learning_rate=0.1)  # 1000 iterations are not enough. Model predicts wrongly depending on the initial random value\n",
    "\n",
    "# Test the trained model\n",
    "output = nn.feedforward(X)\n",
    "print(\"Predictions after training:\")\n",
    "print(output.round())\n"
   ]
  },
  {
   "cell_type": "code",
   "execution_count": null,
   "id": "984c9b9e",
   "metadata": {},
   "outputs": [],
   "source": []
  },
  {
   "cell_type": "code",
   "execution_count": null,
   "id": "71349070",
   "metadata": {},
   "outputs": [],
   "source": []
  }
 ],
 "metadata": {
  "kernelspec": {
   "display_name": "Python 3",
   "language": "python",
   "name": "python3"
  },
  "language_info": {
   "codemirror_mode": {
    "name": "ipython",
    "version": 3
   },
   "file_extension": ".py",
   "mimetype": "text/x-python",
   "name": "python",
   "nbconvert_exporter": "python",
   "pygments_lexer": "ipython3",
   "version": "3.11.7"
  }
 },
 "nbformat": 4,
 "nbformat_minor": 5
}
