{
 "cells": [
  {
   "cell_type": "code",
   "execution_count": 24,
   "id": "ef38be71",
   "metadata": {},
   "outputs": [
    {
     "name": "stdout",
     "output_type": "stream",
     "text": [
      "[[0.80696839 0.1037321  0.3587472  0.10611753 0.95328283]]\n",
      "Datatype: Array  <class 'numpy.ndarray'>\n",
      "Shape:  (1, 5)\n",
      "Dimension:  1\n"
     ]
    }
   ],
   "source": [
    "import numpy as np\n",
    "\n",
    "array_1D = np.random.rand(1,5)\n",
    "print(array_1D)\n",
    "print(\"Datatype: Array \",type(array_1D))\n",
    "print(\"Shape: \",array_1D.shape)\n",
    "print(\"Dimension: \",array_1D.shape[0])"
   ]
  },
  {
   "cell_type": "code",
   "execution_count": 25,
   "id": "bfce0212",
   "metadata": {},
   "outputs": [
    {
     "name": "stdout",
     "output_type": "stream",
     "text": [
      "[[0.10353818 0.63825416 0.50546669 0.04172726 0.29891276]\n",
      " [0.17978092 0.92385876 0.4570759  0.87804883 0.69677083]\n",
      " [0.29107512 0.88366782 0.89152688 0.02590982 0.48377727]\n",
      " [0.7677209  0.39603873 0.65728922 0.37061156 0.27732382]\n",
      " [0.69081669 0.33072643 0.64602693 0.92125034 0.19143357]]\n",
      "Datatype: Array  <class 'numpy.ndarray'>\n",
      "Shape:  (5, 5)\n",
      "Dimension:  5\n"
     ]
    }
   ],
   "source": [
    "array_2D = np.random.rand(5,5)\n",
    "print(array_2D)\n",
    "print(\"Datatype: Array \",type(array_2D))\n",
    "print(\"Shape: \",array_2D.shape)\n",
    "print(\"Dimension: \",array_2D.shape[0])"
   ]
  }
 ],
 "metadata": {
  "kernelspec": {
   "display_name": "Python 3 (ipykernel)",
   "language": "python",
   "name": "python3"
  },
  "language_info": {
   "codemirror_mode": {
    "name": "ipython",
    "version": 3
   },
   "file_extension": ".py",
   "mimetype": "text/x-python",
   "name": "python",
   "nbconvert_exporter": "python",
   "pygments_lexer": "ipython3",
   "version": "3.10.9"
  }
 },
 "nbformat": 4,
 "nbformat_minor": 5
}
