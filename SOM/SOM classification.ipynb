{
 "cells": [
  {
   "cell_type": "code",
   "execution_count": 21,
   "id": "d433acfd",
   "metadata": {},
   "outputs": [
    {
     "name": "stdout",
     "output_type": "stream",
     "text": [
      "Name: sklearn-som\n",
      "Version: 1.1.0\n",
      "Summary: A simple planar self organizing map\n",
      "Home-page: https://github.com/rileypsmith/sklearn-som\n",
      "Author: Riley Smith\n",
      "Author-email: \n",
      "License: MIT\n",
      "Location: c:\\users\\2022503509\\appdata\\roaming\\python\\python310\\site-packages\n",
      "Requires: numpy\n",
      "Required-by: \n"
     ]
    }
   ],
   "source": [
    "!pip show sklearn_som"
   ]
  },
  {
   "cell_type": "code",
   "execution_count": 22,
   "id": "ffe0324e",
   "metadata": {},
   "outputs": [
    {
     "ename": "ModuleNotFoundError",
     "evalue": "No module named 'sklearn_som'",
     "output_type": "error",
     "traceback": [
      "\u001b[1;31m---------------------------------------------------------------------------\u001b[0m",
      "\u001b[1;31mModuleNotFoundError\u001b[0m                       Traceback (most recent call last)",
      "Cell \u001b[1;32mIn[22], line 1\u001b[0m\n\u001b[1;32m----> 1\u001b[0m \u001b[38;5;28;01mfrom\u001b[39;00m \u001b[38;5;21;01msklearn_som\u001b[39;00m\u001b[38;5;21;01m.\u001b[39;00m\u001b[38;5;21;01msom\u001b[39;00m \u001b[38;5;28;01mimport\u001b[39;00m SOM\n",
      "\u001b[1;31mModuleNotFoundError\u001b[0m: No module named 'sklearn_som'"
     ]
    }
   ],
   "source": [
    "from sklearn_som.som import SOM "
   ]
  },
  {
   "cell_type": "code",
   "execution_count": null,
   "id": "a49eec93",
   "metadata": {},
   "outputs": [],
   "source": []
  }
 ],
 "metadata": {
  "kernelspec": {
   "display_name": "Python 3 (ipykernel)",
   "language": "python",
   "name": "python3"
  },
  "language_info": {
   "codemirror_mode": {
    "name": "ipython",
    "version": 3
   },
   "file_extension": ".py",
   "mimetype": "text/x-python",
   "name": "python",
   "nbconvert_exporter": "python",
   "pygments_lexer": "ipython3",
   "version": "3.10.9"
  }
 },
 "nbformat": 4,
 "nbformat_minor": 5
}
