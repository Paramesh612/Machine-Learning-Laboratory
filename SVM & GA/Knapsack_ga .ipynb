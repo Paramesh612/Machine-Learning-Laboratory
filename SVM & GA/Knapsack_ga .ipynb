{
 "cells": [
  {
   "cell_type": "code",
   "execution_count": 1,
   "metadata": {},
   "outputs": [],
   "source": [
    "import numpy as np\n",
    "import random\n",
    "import statistics"
   ]
  },
  {
   "cell_type": "code",
   "execution_count": 36,
   "metadata": {},
   "outputs": [
    {
     "data": {
      "text/plain": [
       "0"
      ]
     },
     "execution_count": 36,
     "metadata": {},
     "output_type": "execute_result"
    }
   ],
   "source": [
    "np.random.randint(2)"
   ]
  },
  {
   "cell_type": "code",
   "execution_count": 21,
   "metadata": {},
   "outputs": [
    {
     "data": {
      "text/plain": [
       "1"
      ]
     },
     "execution_count": 21,
     "metadata": {},
     "output_type": "execute_result"
    }
   ],
   "source": [
    "random.randint(0,1)"
   ]
  },
  {
   "cell_type": "code",
   "execution_count": 203,
   "metadata": {},
   "outputs": [],
   "source": [
    "items = [\n",
    "    Item(7,5),\n",
    "    Item(2,4),\n",
    "    Item(1,7),\n",
    "    Item(9,2),\n",
    "]\n",
    "\n",
    "MAX_KNAPSACK_WEIGHT = 15\n",
    "MUTATION_RATE = 0.02\n",
    "REPRODUCTION_RATE = 0.30\n",
    "CROSSOVER_RATE = 0.5"
   ]
  },
  {
   "cell_type": "code",
   "execution_count": 204,
   "metadata": {},
   "outputs": [],
   "source": [
    "class Individual:\n",
    "    def fitness(self) -> float:\n",
    "        total_value = sum(\n",
    "            [\n",
    "                bit*item.value  for bit,item in zip(self.bits,items)\n",
    "            ]\n",
    "        )\n",
    "\n",
    "        total_weight = sum(\n",
    "            [\n",
    "                bit*item.weight  for bit,item in zip(self.bits,items)\n",
    "            ]\n",
    "        )\n",
    "\n",
    "        if total_weight <= MAX_KNAPSACK_WEIGHT:\n",
    "            return total_value\n",
    "        \n",
    "        return 0.0\n",
    "\n",
    "    def __init__(self,bits):\n",
    "        self.bits = bits\n",
    "        self.fitness = self.fitness()\n",
    "\n",
    "    def display(self):\n",
    "        print(self.bits)"
   ]
  },
  {
   "cell_type": "code",
   "execution_count": 205,
   "metadata": {},
   "outputs": [],
   "source": [
    "# x= Individual([0,1,1,0])\n",
    "# x.display()"
   ]
  },
  {
   "cell_type": "code",
   "execution_count": 206,
   "metadata": {},
   "outputs": [],
   "source": [
    "class Item:\n",
    "    def __init__(self,weight,value):\n",
    "        self.weight = weight\n",
    "        self.value = value\n",
    "\n",
    "    def display(self):\n",
    "        print(\"weights: \",self.weight)\n",
    "        print(\"values: \",self.value)\n",
    "    "
   ]
  },
  {
   "cell_type": "code",
   "execution_count": 207,
   "metadata": {},
   "outputs": [],
   "source": [
    "# item = Item(1,3)\n",
    "# item.display()"
   ]
  },
  {
   "cell_type": "code",
   "execution_count": 208,
   "metadata": {},
   "outputs": [],
   "source": [
    "def generate_initial_population(count=6) -> list[Individual]:\n",
    "    population = set()\n",
    "    while len(population)!=count:\n",
    "        bits = [ random.randint(0,1) for i in items ]\n",
    "        population.add(Individual(bits))\n",
    "    \n",
    "    return list(population)"
   ]
  },
  {
   "cell_type": "code",
   "execution_count": 209,
   "metadata": {},
   "outputs": [
    {
     "name": "stdout",
     "output_type": "stream",
     "text": [
      "Initial Population: \n",
      "[1, 1, 1, 1]\n",
      "[0, 1, 0, 0]\n",
      "[1, 1, 1, 0]\n",
      "[0, 1, 1, 1]\n",
      "[0, 0, 1, 1]\n",
      "[0, 1, 1, 0]\n"
     ]
    }
   ],
   "source": [
    "pop = generate_initial_population()\n",
    "\n",
    "print(\"Initial Population: \")\n",
    "for i in pop:\n",
    "    i.display()"
   ]
  },
  {
   "cell_type": "code",
   "execution_count": null,
   "metadata": {},
   "outputs": [],
   "source": [
    "def selection(population: list[Individual]) -> list[Individual]:\n",
    "    parents = []\n",
    "\n",
    "    random.shuffle(population)\n",
    "    \n",
    "    # Tournament between pairs . Choosing 2 parents from 4 candidates \n",
    "    if population[0].fitness > population[1].fitness:\n",
    "        parents.append(population[0])\n",
    "    else:\n",
    "        parents.append(population[1])\n",
    "\n",
    "    if population[2].fitness > population[3].fitness:\n",
    "        parents.append(population[2])\n",
    "    else:\n",
    "        parents.append(population[3])\n",
    "\n",
    "    return parents\n",
    "    \n",
    "    \n",
    "def crossover(parents: list[Individual]) -> list[Individual]:\n",
    "    N = len(items)\n",
    "\n",
    "    child1 = parents[0].bits[:N//2] + parents[1].bits[N//2:]\n",
    "    child2 = parents[0].bits[N//2:] + parents[1].bits[:N//2]\n",
    "\n",
    "    return [Individual(child1), Individual(child2)]\n",
    "\n",
    "def mutate(individuals: list[Individual]) -> list[Individual]:\n",
    "    for ind in individuals:\n",
    "        for i in range(len(ind.bits)):\n",
    "            if random.random() < MUTATION_RATE:\n",
    "                ind.bits[i] = ~ind.bits[i]\n",
    "\n",
    "def next_generation(population: list[Individual]) -> list[Individual]:\n",
    "    next_gen = []\n",
    "\n",
    "    # MAX_KNAPSACK_WEIGHT = 15\n",
    "    # MUTATION_RATE = 0.02\n",
    "    # REPRODUCTION_RATE = 0.30\n",
    "    # CROSSOVER_RATE = 0.5\n",
    "    \n",
    "    while len(next_gen) < len(population):\n",
    "        children = []\n",
    "        parents = selection(population)\n",
    "\n",
    "        if random.random() < REPRODUCTION_RATE:\n",
    "            children = parents\n",
    "        else:\n",
    "            if random.random() < CROSSOVER_RATE:\n",
    "                children = crossover(parents)\n",
    "\n",
    "            if random.random() < MUTATION_RATE:\n",
    "                mutate(children)\n",
    "\n",
    "        next_gen.extend(children)\n",
    "    \n",
    "    return next_gen[:len(population)]\n"
   ]
  },
  {
   "cell_type": "code",
   "execution_count": 211,
   "metadata": {},
   "outputs": [],
   "source": [
    "def average_fitness(population):\n",
    "    return statistics.mean([population[i].fitness for i in range(len(population))])"
   ]
  },
  {
   "cell_type": "code",
   "execution_count": 212,
   "metadata": {},
   "outputs": [],
   "source": [
    "def solve_knapsack() -> Individual:\n",
    "    population = generate_initial_population()\n",
    "    avg_fitness = []\n",
    "\n",
    "    for _ in range(500):\n",
    "        avg_fitness.append(average_fitness(population))\n",
    "        population = next_generation(population)\n",
    "\n",
    "    \n",
    "    # population = sorted(population, key = lambda i: i.fitness(), reverse = True)\n",
    "    population = sorted(population, key=lambda i: i.fitness, reverse=True)\n",
    "    return population[0]"
   ]
  },
  {
   "cell_type": "code",
   "execution_count": 213,
   "metadata": {},
   "outputs": [
    {
     "name": "stdout",
     "output_type": "stream",
     "text": [
      "[1, 0, 1, 0]\n"
     ]
    }
   ],
   "source": [
    "solve_knapsack().display()"
   ]
  },
  {
   "cell_type": "code",
   "execution_count": null,
   "metadata": {},
   "outputs": [],
   "source": []
  }
 ],
 "metadata": {
  "kernelspec": {
   "display_name": "base",
   "language": "python",
   "name": "python3"
  },
  "language_info": {
   "codemirror_mode": {
    "name": "ipython",
    "version": 3
   },
   "file_extension": ".py",
   "mimetype": "text/x-python",
   "name": "python",
   "nbconvert_exporter": "python",
   "pygments_lexer": "ipython3",
   "version": "3.12.7"
  }
 },
 "nbformat": 4,
 "nbformat_minor": 2
}
