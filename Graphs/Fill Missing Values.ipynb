{
 "cells": [
  {
   "cell_type": "code",
   "execution_count": 3,
   "id": "95a2380f",
   "metadata": {},
   "outputs": [],
   "source": [
    "import pandas as pd"
   ]
  },
  {
   "cell_type": "code",
   "execution_count": 4,
   "id": "d13b3a32",
   "metadata": {},
   "outputs": [],
   "source": [
    "worksheet = pd.read_excel(r'E:\\Machine-Learning-Laboratory\\09.01.25\\Input data 2.xlsx')"
   ]
  },
  {
   "cell_type": "code",
   "execution_count": 5,
   "id": "c587d2d6",
   "metadata": {},
   "outputs": [
    {
     "name": "stdout",
     "output_type": "stream",
     "text": [
      "   Reg No      Name   M1    M2   M3    M4     M5\n",
      "0     100  Paramesh  100  82.0   90  95.0   87.0\n",
      "1     101     Karan   89  91.0   80  81.0  100.0\n",
      "2     102     Raman   75   NaN   56  89.0    NaN\n",
      "3     104       Joe   78  68.0   79  78.0   69.0\n",
      "4     105     Black   89  80.0  100   NaN   79.0\n",
      "5     106       Rom   88  23.0   90  12.0   50.0\n"
     ]
    }
   ],
   "source": [
    "print(worksheet)"
   ]
  },
  {
   "cell_type": "code",
   "execution_count": 13,
   "id": "010faef2",
   "metadata": {},
   "outputs": [],
   "source": [
    "for i in range(1,6):\n",
    "    mean = worksheet['M'+str(i)].mean()\n",
    "    worksheet['M'+str(i)].fillna(mean,inplace = True)"
   ]
  },
  {
   "cell_type": "code",
   "execution_count": 14,
   "id": "dd8150f0",
   "metadata": {},
   "outputs": [
    {
     "name": "stdout",
     "output_type": "stream",
     "text": [
      "   Reg No      Name   M1    M2   M3    M4     M5\n",
      "0     100  Paramesh  100  82.0   90  95.0   87.0\n",
      "1     101     Karan   89  91.0   80  81.0  100.0\n",
      "2     102     Raman   75  68.8   56  89.0   77.0\n",
      "3     104       Joe   78  68.0   79  78.0   69.0\n",
      "4     105     Black   89  80.0  100  71.0   79.0\n",
      "5     106       Rom   88  23.0   90  12.0   50.0\n"
     ]
    }
   ],
   "source": [
    "print(worksheet)"
   ]
  },
  {
   "cell_type": "code",
   "execution_count": 15,
   "id": "a7c961cb",
   "metadata": {},
   "outputs": [
    {
     "name": "stdout",
     "output_type": "stream",
     "text": [
      "75\n"
     ]
    }
   ],
   "source": []
  },
  {
   "cell_type": "code",
   "execution_count": null,
   "id": "9ce57d1c",
   "metadata": {},
   "outputs": [],
   "source": []
  }
 ],
 "metadata": {
  "kernelspec": {
   "display_name": "Python 3 (ipykernel)",
   "language": "python",
   "name": "python3"
  },
  "language_info": {
   "codemirror_mode": {
    "name": "ipython",
    "version": 3
   },
   "file_extension": ".py",
   "mimetype": "text/x-python",
   "name": "python",
   "nbconvert_exporter": "python",
   "pygments_lexer": "ipython3",
   "version": "3.10.9"
  }
 },
 "nbformat": 4,
 "nbformat_minor": 5
}
