{
 "cells": [
  {
   "cell_type": "code",
   "execution_count": 1,
   "id": "c6671c10",
   "metadata": {},
   "outputs": [],
   "source": [
    "import pandas as pd\n",
    "import matplotlib.pyplot as plt\n",
    "import numpy as np"
   ]
  },
  {
   "cell_type": "code",
   "execution_count": 9,
   "id": "e3ac7cdb",
   "metadata": {},
   "outputs": [],
   "source": [
    "dataFrame = pd.read_excel(r'Linear_Regression_Input_Training.xlsx')"
   ]
  },
  {
   "cell_type": "code",
   "execution_count": 10,
   "id": "8a21a3f2",
   "metadata": {},
   "outputs": [
    {
     "name": "stdout",
     "output_type": "stream",
     "text": [
      "   Hours  Marks\n",
      "0      2     69\n",
      "1      9     98\n",
      "2      5     82\n",
      "3      5     77\n",
      "4      3     71\n",
      "5      7     84\n",
      "6      1     55\n"
     ]
    }
   ],
   "source": [
    "print(dataFrame)"
   ]
  },
  {
   "cell_type": "code",
   "execution_count": 11,
   "id": "4f530f3c",
   "metadata": {},
   "outputs": [
    {
     "name": "stdout",
     "output_type": "stream",
     "text": [
      "4.571428571428571\n",
      "76.57142857142857\n"
     ]
    }
   ],
   "source": [
    "avgX = dataFrame.Hours.mean()\n",
    "print(avgX)\n",
    "avgY = dataFrame.Marks.mean()\n",
    "print(avgY)"
   ]
  },
  {
   "cell_type": "code",
   "execution_count": 12,
   "id": "64208590",
   "metadata": {},
   "outputs": [],
   "source": [
    "def calculate_B_Value(dataFrame,avgX,avgY) -> float:\n",
    "    dataFrame['val1'] = (dataFrame['Hours']-avgX)*(dataFrame['Marks']-avgY)\n",
    "    dataFrame['val2'] = (dataFrame['Hours']-avgX)**2\n",
    "    return dataFrame['val1'].sum() / dataFrame['val2'].sum()\n",
    "# In y = a + bx\n",
    "b = calculate_B_Value(dataFrame,avgX,avgY)\n",
    "a = avgY - b*avgX\n"
   ]
  },
  {
   "cell_type": "code",
   "execution_count": 13,
   "id": "b76a520d",
   "metadata": {},
   "outputs": [
    {
     "name": "stdout",
     "output_type": "stream",
     "text": [
      "Results of Test Data: \n",
      "    Hours  Predicted Marks\n",
      "0      8        92.431138\n",
      "1      6        83.179641\n",
      "2      2        64.676647\n"
     ]
    }
   ],
   "source": [
    "def predictNewValue(newVal):\n",
    "    return a+b*newVal\n",
    "\n",
    "dfTest = pd.read_excel(r'Linear_Regression_Input_Testing.xlsx')\n",
    "dfTest['Predicted Marks'] = dfTest['Hours'].apply(predictNewValue)\n",
    "\n",
    "print(\"Results of Test Data: \\n\",dfTest)"
   ]
  },
  {
   "cell_type": "code",
   "execution_count": 14,
   "id": "e00b20e7",
   "metadata": {},
   "outputs": [],
   "source": [
    "# dataFrame.plot(kind = 'scatter', x='Hours', y='Marks')"
   ]
  },
  {
   "cell_type": "code",
   "execution_count": 19,
   "id": "125b4794",
   "metadata": {},
   "outputs": [
    {
     "name": "stdout",
     "output_type": "stream",
     "text": [
      "[ 0.          0.1010101   0.2020202   0.3030303   0.4040404   0.50505051\n",
      "  0.60606061  0.70707071  0.80808081  0.90909091  1.01010101  1.11111111\n",
      "  1.21212121  1.31313131  1.41414141  1.51515152  1.61616162  1.71717172\n",
      "  1.81818182  1.91919192  2.02020202  2.12121212  2.22222222  2.32323232\n",
      "  2.42424242  2.52525253  2.62626263  2.72727273  2.82828283  2.92929293\n",
      "  3.03030303  3.13131313  3.23232323  3.33333333  3.43434343  3.53535354\n",
      "  3.63636364  3.73737374  3.83838384  3.93939394  4.04040404  4.14141414\n",
      "  4.24242424  4.34343434  4.44444444  4.54545455  4.64646465  4.74747475\n",
      "  4.84848485  4.94949495  5.05050505  5.15151515  5.25252525  5.35353535\n",
      "  5.45454545  5.55555556  5.65656566  5.75757576  5.85858586  5.95959596\n",
      "  6.06060606  6.16161616  6.26262626  6.36363636  6.46464646  6.56565657\n",
      "  6.66666667  6.76767677  6.86868687  6.96969697  7.07070707  7.17171717\n",
      "  7.27272727  7.37373737  7.47474747  7.57575758  7.67676768  7.77777778\n",
      "  7.87878788  7.97979798  8.08080808  8.18181818  8.28282828  8.38383838\n",
      "  8.48484848  8.58585859  8.68686869  8.78787879  8.88888889  8.98989899\n",
      "  9.09090909  9.19191919  9.29292929  9.39393939  9.49494949  9.5959596\n",
      "  9.6969697   9.7979798   9.8989899  10.        ]\n"
     ]
    },
    {
     "data": {
      "text/plain": [
       "<matplotlib.collections.PathCollection at 0x19d485e2f80>"
      ]
     },
     "execution_count": 19,
     "metadata": {},
     "output_type": "execute_result"
    },
    {
     "data": {
      "image/png": "[encoded data removed]",
      "text/plain": [
       "<Figure size 640x480 with 1 Axes>"
      ]
     },
     "metadata": {},
     "output_type": "display_data"
    }
   ],
   "source": [
    "xAxis = np.linspace(0,10,100)\n",
    "print(xAxis)\n",
    "yAxis = a + b*xAxis\n",
    "plt.xlabel(\"Hours\")\n",
    "plt.ylabel(\"Marks\")\n",
    "plt.plot(xAxis,yAxis , color = 'red')\n",
    "plt.scatter(dataFrame['Hours'],dataFrame['Marks'])"
   ]
  },
  {
   "cell_type": "code",
   "execution_count": null,
   "id": "476e2288",
   "metadata": {},
   "outputs": [],
   "source": []
  }
 ],
 "metadata": {
  "kernelspec": {
   "display_name": "Python 3 (ipykernel)",
   "language": "python",
   "name": "python3"
  },
  "language_info": {
   "codemirror_mode": {
    "name": "ipython",
    "version": 3
   },
   "file_extension": ".py",
   "mimetype": "text/x-python",
   "name": "python",
   "nbconvert_exporter": "python",
   "pygments_lexer": "ipython3",
   "version": "3.10.9"
  }
 },
 "nbformat": 4,
 "nbformat_minor": 5
}
