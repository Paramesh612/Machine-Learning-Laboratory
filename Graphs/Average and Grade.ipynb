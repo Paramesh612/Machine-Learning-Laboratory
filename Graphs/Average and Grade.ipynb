{
 "cells": [
  {
   "cell_type": "code",
   "execution_count": 73,
   "id": "95a2380f",
   "metadata": {},
   "outputs": [],
   "source": [
    "import pandas as pd"
   ]
  },
  {
   "cell_type": "code",
   "execution_count": 83,
   "id": "d13b3a32",
   "metadata": {},
   "outputs": [],
   "source": [
    "worksheet = pd.read_excel(r'C:\\Users\\2022503509\\Desktop\\Input data.xlsx')"
   ]
  },
  {
   "cell_type": "code",
   "execution_count": 84,
   "id": "c587d2d6",
   "metadata": {},
   "outputs": [
    {
     "name": "stdout",
     "output_type": "stream",
     "text": [
      "   Reg No      Name   M1  M2   M3   M4   M5\n",
      "0     100  Paramesh  100  82   90   95   87\n",
      "1     101     Karan   89  91   80   81  100\n",
      "2     102     Raman   75  78   56   89   45\n",
      "3     104       Joe   78  68   79   78   69\n",
      "4     105     Black   89  80  100  100   79\n",
      "5     106       Rom   88  23   90   12   50\n"
     ]
    }
   ],
   "source": [
    "print(worksheet)"
   ]
  },
  {
   "cell_type": "code",
   "execution_count": 86,
   "id": "cad76cfd",
   "metadata": {},
   "outputs": [],
   "source": [
    "worksheet['Average'] = worksheet['M1']\n",
    "for i in range(2,6):\n",
    "    worksheet['Average'] += worksheet['M'+str(i)]\n",
    "    \n",
    "worksheet['Average'] = worksheet['Average']/5"
   ]
  },
  {
   "cell_type": "code",
   "execution_count": 87,
   "id": "779a7347",
   "metadata": {},
   "outputs": [
    {
     "name": "stdout",
     "output_type": "stream",
     "text": [
      "   Reg No      Name   M1  M2   M3   M4   M5  Average\n",
      "0     100  Paramesh  100  82   90   95   87     90.8\n",
      "1     101     Karan   89  91   80   81  100     88.2\n",
      "2     102     Raman   75  78   56   89   45     68.6\n",
      "3     104       Joe   78  68   79   78   69     74.4\n",
      "4     105     Black   89  80  100  100   79     89.6\n",
      "5     106       Rom   88  23   90   12   50     52.6\n"
     ]
    }
   ],
   "source": [
    "print(worksheet)"
   ]
  },
  {
   "cell_type": "code",
   "execution_count": 90,
   "id": "0c0c33eb",
   "metadata": {},
   "outputs": [],
   "source": [
    "# avg = worksheet['Average']\n",
    "def find_grade(avg):\n",
    "    if(avg > 90): \n",
    "        return 'O'\n",
    "    elif(avg > 80): \n",
    "        return 'A+'\n",
    "    elif(avg > 70): \n",
    "        return 'A'\n",
    "    elif(avg > 60): \n",
    "        return 'B+'\n",
    "    elif(avg > 50): \n",
    "        return 'B'\n",
    "    else: \n",
    "        return 'U'\n",
    "    \n",
    "worksheet['Grade'] = worksheet['Average'].apply(find_grade)"
   ]
  },
  {
   "cell_type": "code",
   "execution_count": 91,
   "id": "b828e9ec",
   "metadata": {},
   "outputs": [
    {
     "name": "stdout",
     "output_type": "stream",
     "text": [
      "   Reg No      Name   M1  M2   M3   M4   M5  Average Grade\n",
      "0     100  Paramesh  100  82   90   95   87     90.8     O\n",
      "1     101     Karan   89  91   80   81  100     88.2    A+\n",
      "2     102     Raman   75  78   56   89   45     68.6     B\n",
      "3     104       Joe   78  68   79   78   69     74.4     A\n",
      "4     105     Black   89  80  100  100   79     89.6    A+\n",
      "5     106       Rom   88  23   90   12   50     52.6     B\n"
     ]
    }
   ],
   "source": [
    "print(worksheet)"
   ]
  },
  {
   "cell_type": "code",
   "execution_count": null,
   "id": "c731e0c7",
   "metadata": {},
   "outputs": [],
   "source": []
  }
 ],
 "metadata": {
  "kernelspec": {
   "display_name": "Python 3 (ipykernel)",
   "language": "python",
   "name": "python3"
  },
  "language_info": {
   "codemirror_mode": {
    "name": "ipython",
    "version": 3
   },
   "file_extension": ".py",
   "mimetype": "text/x-python",
   "name": "python",
   "nbconvert_exporter": "python",
   "pygments_lexer": "ipython3",
   "version": "3.10.9"
  }
 },
 "nbformat": 4,
 "nbformat_minor": 5
}
