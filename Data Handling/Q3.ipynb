{
 "cells": [
  {
   "cell_type": "code",
   "execution_count": 13,
   "id": "6a1f4712",
   "metadata": {},
   "outputs": [],
   "source": [
    "import numpy as np"
   ]
  },
  {
   "cell_type": "code",
   "execution_count": 14,
   "id": "70a2d961",
   "metadata": {},
   "outputs": [],
   "source": [
    "arr1 = np.random.randint(low=1,high=50,size=9)\n",
    "arr1 = arr1.reshape(3,3)\n",
    "arr2 = np.random.randint(low=1,high=50,size=9)\n",
    "arr2 = arr2.reshape(3,3)\n"
   ]
  },
  {
   "cell_type": "code",
   "execution_count": 15,
   "id": "b66af9bb",
   "metadata": {},
   "outputs": [
    {
     "name": "stdout",
     "output_type": "stream",
     "text": [
      "Arr1: \n",
      " [[25  4 24]\n",
      " [15 15 17]\n",
      " [12 35 17]]\n",
      "Determinant:  -424.0\n",
      "\n",
      "Arr2: \n",
      " [[28  4 19]\n",
      " [34  5 46]\n",
      " [ 3  2 10]]\n",
      "Determinant:  -977.0000000000005\n"
     ]
    }
   ],
   "source": [
    "print(\"Arr1: \\n\",arr1)\n",
    "print(\"Determinant: \",np.linalg.det(arr1))\n",
    "print(\"\\nArr2: \\n\",arr2)\n",
    "print(\"Determinant: \",np.linalg.det(arr2))"
   ]
  },
  {
   "cell_type": "code",
   "execution_count": 27,
   "id": "6e1e5464",
   "metadata": {},
   "outputs": [
    {
     "name": "stdout",
     "output_type": "stream",
     "text": [
      "Addition: \n",
      " [[53  8 43]\n",
      " [49 20 63]\n",
      " [15 37 27]]\n",
      "Multiplication or Dot Product: \n",
      " [[ 908  168  899]\n",
      " [ 981  169 1145]\n",
      " [1577  257 2008]]\n",
      "Subtraction: \n",
      " [[ -3   0   5]\n",
      " [-19  10 -29]\n",
      " [  9  33   7]]\n",
      "Division: \n",
      " [[ 0.89285714  1.          1.26315789]\n",
      " [ 0.44117647  3.          0.36956522]\n",
      " [ 4.         17.5         1.7       ]]\n"
     ]
    }
   ],
   "source": [
    "print(\"Addition: \\n\",arr1+arr2)\n",
    "print(\"Multiplication or Dot Product: \\n\",np.dot(arr1,arr2))\n",
    "print(\"Subtraction: \\n\",arr1-arr2)\n",
    "print(\"Division: \\n\",arr1/arr2)"
   ]
  },
  {
   "cell_type": "code",
   "execution_count": 28,
   "id": "de246c12",
   "metadata": {},
   "outputs": [
    {
     "name": "stdout",
     "output_type": "stream",
     "text": [
      "Transpose: \n",
      "Arr1:\n",
      " [[25 15 12]\n",
      " [ 4 15 35]\n",
      " [24 17 17]]\n",
      "Arr2:\n",
      " [[28 34  3]\n",
      " [ 4  5  2]\n",
      " [19 46 10]]\n"
     ]
    }
   ],
   "source": [
    "print(\"Transpose: \")\n",
    "print(\"Arr1:\\n\",np.transpose(arr1))\n",
    "print(\"Arr2:\\n\",np.transpose(arr2))"
   ]
  },
  {
   "cell_type": "code",
   "execution_count": 30,
   "id": "2d66012b",
   "metadata": {},
   "outputs": [
    {
     "name": "stdout",
     "output_type": "stream",
     "text": [
      "Cross Product: \n",
      " [[ -20  197  -12]\n",
      " [ 605 -112 -435]\n",
      " [ 316  -69  -81]]\n",
      "dot Product: \n",
      " [[ 908  168  899]\n",
      " [ 981  169 1145]\n",
      " [1577  257 2008]]\n"
     ]
    }
   ],
   "source": [
    "print(\"Cross Product: \\n\", np.cross(arr1,arr2))\n",
    "print(\"dot Product: \\n\", np.dot(arr1,arr2))"
   ]
  },
  {
   "cell_type": "code",
   "execution_count": null,
   "id": "d8206c7e",
   "metadata": {},
   "outputs": [],
   "source": []
  }
 ],
 "metadata": {
  "kernelspec": {
   "display_name": "Python 3 (ipykernel)",
   "language": "python",
   "name": "python3"
  },
  "language_info": {
   "codemirror_mode": {
    "name": "ipython",
    "version": 3
   },
   "file_extension": ".py",
   "mimetype": "text/x-python",
   "name": "python",
   "nbconvert_exporter": "python",
   "pygments_lexer": "ipython3",
   "version": "3.10.9"
  }
 },
 "nbformat": 4,
 "nbformat_minor": 5
}
