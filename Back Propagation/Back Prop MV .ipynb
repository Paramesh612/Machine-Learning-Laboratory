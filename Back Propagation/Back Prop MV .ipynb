{
 "cells": [
  {
   "cell_type": "code",
   "execution_count": null,
   "id": "b74f4668",
   "metadata": {},
   "outputs": [],
   "source": [
    "from sklearn.neural_network import MLPClassifier\n",
    "import numpy as np"
   ]
  },
  {
   "cell_type": "code",
   "execution_count": null,
   "id": "5936e991",
   "metadata": {},
   "outputs": [],
   "source": [
    "\n",
    "x = np.array([[0,0], [0,1], [1,0], [1,1]])\n",
    "y = np.array([0, 1, 1, 0])  \n",
    "model = MLPClassifier(hidden_layer_sizes=(4,), activation='logistic', max_iter=10000)\n",
    "model.fit(x, y)\n",
    "predictions = model.predict([[0,1]])\n",
    "print(\"Predictions:\", predictions)"
   ]
  }
 ],
 "metadata": {
  "language_info": {
   "name": "python"
  }
 },
 "nbformat": 4,
 "nbformat_minor": 5
}
