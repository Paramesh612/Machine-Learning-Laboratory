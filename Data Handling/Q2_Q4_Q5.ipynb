{
 "cells": [
  {
   "cell_type": "code",
   "execution_count": 1,
   "id": "d2b01410",
   "metadata": {},
   "outputs": [],
   "source": [
    "import numpy as np"
   ]
  },
  {
   "cell_type": "code",
   "execution_count": 2,
   "id": "65eebd16",
   "metadata": {},
   "outputs": [
    {
     "name": "stdout",
     "output_type": "stream",
     "text": [
      "[[0.02669237 0.66146922 0.53538616 0.32498177 0.02638163]]\n",
      "[[0.00338381 0.60734579 0.11025465 0.5107912  0.67998483]\n",
      " [0.698802   0.9459226  0.57948641 0.26180745 0.43348208]\n",
      " [0.60965229 0.87660687 0.08349266 0.83790868 0.01717283]]\n"
     ]
    }
   ],
   "source": [
    "#1 Random Initialization\n",
    "array_1D = np.random.rand(1,5)\n",
    "array_2D = np.random.rand(3,5)\n",
    "print(array_1D)\n",
    "print(array_2D)"
   ]
  },
  {
   "cell_type": "code",
   "execution_count": 3,
   "id": "2b46a0ca",
   "metadata": {},
   "outputs": [
    {
     "name": "stdout",
     "output_type": "stream",
     "text": [
      "[1 2 4]\n",
      "[[1 2 4]\n",
      " [2 4 6]\n",
      " [5 6 3]]\n"
     ]
    }
   ],
   "source": [
    "#2 Default Initialization\n",
    "\n",
    "array_1D = np.array([1,2,4])\n",
    "array_2D = np.array([[1,2,4],[2,4,6],[5,6,3]])\n",
    "print(array_1D)\n",
    "print(array_2D)"
   ]
  },
  {
   "cell_type": "code",
   "execution_count": 4,
   "id": "72a220ba",
   "metadata": {},
   "outputs": [
    {
     "name": "stdout",
     "output_type": "stream",
     "text": [
      "Diagonal Elements: 1 4 3 "
     ]
    }
   ],
   "source": [
    "#3 Diagonal Values\n",
    "\n",
    "print(\"Diagonal Elements:\", end=\" \")\n",
    "for i in range(0,len(array_2D)):\n",
    "    for j in range(0,len(array_2D[0])):\n",
    "        if i==j:\n",
    "            print(array_2D[i][j], end=\" \")"
   ]
  },
  {
   "cell_type": "code",
   "execution_count": 5,
   "id": "6176633e",
   "metadata": {},
   "outputs": [
    {
     "name": "stdout",
     "output_type": "stream",
     "text": [
      "First Element\n",
      "1D:  1\n",
      "2D:  1\n",
      "Last Element\n",
      "1D:  4\n",
      "2D:  3\n"
     ]
    }
   ],
   "source": [
    "#4 First Element\n",
    "print(\"First Element\")\n",
    "print(\"1D: \", array_1D[0])\n",
    "print(\"2D: \", array_2D[0][0])\n",
    "#5 Last Element\n",
    "print(\"Last Element\")\n",
    "print(\"1D: \", array_1D[-1])\n",
    "print(\"2D: \", array_2D[-1][-1])"
   ]
  },
  {
   "cell_type": "code",
   "execution_count": 6,
   "id": "43c83dd4",
   "metadata": {},
   "outputs": [
    {
     "name": "stdout",
     "output_type": "stream",
     "text": [
      "3\n"
     ]
    }
   ],
   "source": [
    "#6 2nd row and 2nd column Element\n",
    "print(array_2D[2][2])"
   ]
  },
  {
   "cell_type": "code",
   "execution_count": 7,
   "id": "bc2ca942",
   "metadata": {},
   "outputs": [
    {
     "name": "stdout",
     "output_type": "stream",
     "text": [
      "3\n",
      "(3, 3)\n"
     ]
    }
   ],
   "source": [
    "#7 Number of elements\n",
    "print(len(array_1D))\n",
    "print(array_2D.shape)"
   ]
  },
  {
   "cell_type": "code",
   "execution_count": null,
   "id": "a48d7a08",
   "metadata": {},
   "outputs": [],
   "source": []
  },
  {
   "cell_type": "code",
   "execution_count": 9,
   "id": "dfda6fdc",
   "metadata": {},
   "outputs": [
    {
     "name": "stdout",
     "output_type": "stream",
     "text": [
      "Range of 1D array:  3\n",
      "Range of 2D array:  5\n"
     ]
    }
   ],
   "source": [
    "#Q4 Range of values \n",
    "print(\"Range of 1D array: \",array_1D.max()-array_1D.min())\n",
    "print(\"Range of 2D array: \",array_2D.max()-array_2D.min())"
   ]
  },
  {
   "cell_type": "code",
   "execution_count": 14,
   "id": "12a3c857",
   "metadata": {},
   "outputs": [
    {
     "name": "stdout",
     "output_type": "stream",
     "text": [
      "After reshaping 1D to 2D array: \n",
      " [[ 1  2]\n",
      " [ 3  4]\n",
      " [ 5  6]\n",
      " [ 7  8]\n",
      " [ 9 10]]\n"
     ]
    }
   ],
   "source": [
    "#Q5 Reshape an array\n",
    "arr = np.array([1,2,3,4,5,6,7,8,9,10])\n",
    "newArr = arr.reshape(5,2)\n",
    "print(\"After reshaping 1D to 2D array: \\n\",newArr)"
   ]
  },
  {
   "cell_type": "code",
   "execution_count": null,
   "id": "3a85c4d9",
   "metadata": {},
   "outputs": [],
   "source": []
  }
 ],
 "metadata": {
  "kernelspec": {
   "display_name": "Python 3 (ipykernel)",
   "language": "python",
   "name": "python3"
  },
  "language_info": {
   "codemirror_mode": {
    "name": "ipython",
    "version": 3
   },
   "file_extension": ".py",
   "mimetype": "text/x-python",
   "name": "python",
   "nbconvert_exporter": "python",
   "pygments_lexer": "ipython3",
   "version": "3.10.9"
  }
 },
 "nbformat": 4,
 "nbformat_minor": 5
}
