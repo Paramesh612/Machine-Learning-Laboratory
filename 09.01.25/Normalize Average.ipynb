{
 "cells": [
  {
   "cell_type": "code",
   "execution_count": 9,
   "id": "95a2380f",
   "metadata": {},
   "outputs": [],
   "source": [
    "import pandas as pd"
   ]
  },
  {
   "cell_type": "code",
   "execution_count": 22,
   "id": "d13b3a32",
   "metadata": {},
   "outputs": [],
   "source": [
    "worksheet = pd.read_excel(r'E:\\Machine-Learning-Laboratory\\09.01.25\\Input data 3.xlsx')"
   ]
  },
  {
   "cell_type": "code",
   "execution_count": 23,
   "id": "c587d2d6",
   "metadata": {},
   "outputs": [
    {
     "name": "stdout",
     "output_type": "stream",
     "text": [
      "   Reg No      Name   M1  M2   M3  M4   M5  Average\n",
      "0     100  Paramesh  100  82   90  95   87     90.8\n",
      "1     101     Karan   89  91   80  81  100     88.2\n",
      "2     102     Raman   75  78   56  89   46     68.8\n",
      "3     104       Joe   78  68   79  78   69     74.4\n",
      "4     105     Black   89  80  100  52   79     80.0\n",
      "5     106       Rom   88  23   90  12   50     52.6\n"
     ]
    }
   ],
   "source": [
    "print(worksheet)"
   ]
  },
  {
   "cell_type": "code",
   "execution_count": 24,
   "id": "5ab259bb",
   "metadata": {},
   "outputs": [],
   "source": [
    "def normalize_average(current , minVal , maxVal):\n",
    "    return (current - minVal)/(maxVal-minVal)"
   ]
  },
  {
   "cell_type": "code",
   "execution_count": 25,
   "id": "2a8b9e8d",
   "metadata": {},
   "outputs": [],
   "source": [
    "minVal = worksheet['Average'].min()\n",
    "maxVal = worksheet['Average'].max()\n",
    "\n",
    "worksheet['Normalized_Average'] = worksheet['Average'].apply(normalize_average, args = (minVal,maxVal))"
   ]
  },
  {
   "cell_type": "code",
   "execution_count": 26,
   "id": "0d8e552c",
   "metadata": {},
   "outputs": [
    {
     "name": "stdout",
     "output_type": "stream",
     "text": [
      "   Reg No      Name   M1  M2   M3  M4   M5  Average  Normalized_Average\n",
      "0     100  Paramesh  100  82   90  95   87     90.8            1.000000\n",
      "1     101     Karan   89  91   80  81  100     88.2            0.931937\n",
      "2     102     Raman   75  78   56  89   46     68.8            0.424084\n",
      "3     104       Joe   78  68   79  78   69     74.4            0.570681\n",
      "4     105     Black   89  80  100  52   79     80.0            0.717277\n",
      "5     106       Rom   88  23   90  12   50     52.6            0.000000\n"
     ]
    }
   ],
   "source": [
    "print(worksheet)"
   ]
  },
  {
   "cell_type": "code",
   "execution_count": 27,
   "id": "b9dc5702",
   "metadata": {},
   "outputs": [
    {
     "name": "stdout",
     "output_type": "stream",
     "text": [
      "0    1.000000\n",
      "1    0.931937\n",
      "2    0.424084\n",
      "3    0.570681\n",
      "4    0.717277\n",
      "5    0.000000\n",
      "Name: Normalized_Average, dtype: float64\n"
     ]
    }
   ],
   "source": [
    "# Display Single Column\n",
    "print(worksheet['Normalized_Average'])"
   ]
  }
 ],
 "metadata": {
  "kernelspec": {
   "display_name": "Python 3 (ipykernel)",
   "language": "python",
   "name": "python3"
  },
  "language_info": {
   "codemirror_mode": {
    "name": "ipython",
    "version": 3
   },
   "file_extension": ".py",
   "mimetype": "text/x-python",
   "name": "python",
   "nbconvert_exporter": "python",
   "pygments_lexer": "ipython3",
   "version": "3.10.9"
  }
 },
 "nbformat": 4,
 "nbformat_minor": 5
}
