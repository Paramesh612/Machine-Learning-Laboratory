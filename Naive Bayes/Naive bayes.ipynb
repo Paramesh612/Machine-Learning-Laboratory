{
 "cells": [
  {
   "cell_type": "code",
   "execution_count": null,
   "id": "1a12f42c",
   "metadata": {},
   "outputs": [],
   "source": [
    "import pandas as pd\n",
    "from sklearn.naive_bayes import GaussianNB\n",
    "from sklearn.preprocessing import LabelEncoder\n",
    "\n",
    "\n",
    "df = pd.read_csv('data.csv')\n",
    "\n",
    "\n",
    "label_encoders = {}\n",
    "for column in df.columns:\n",
    "    if df[column].dtype == 'object':\n",
    "        le = LabelEncoder()\n",
    "        df[column] = le.fit_transform(df[column])\n",
    "        label_encoders[column] = le\n",
    "\n",
    "\n",
    "X = df.drop('buys_computer', axis=1)\n",
    "y = df['buys_computer']\n",
    "\n",
    "model = GaussianNB()\n",
    "model.fit(X, y)\n",
    "\n",
    "\n",
    "while True:\n",
    "    age = input(\"Enter age : \")\n",
    "    income = input(\"Enter income : \")\n",
    "    rating = input(\"Enter rating : \")\n",
    "    student = input(\"Enter student : \")\n",
    "\n",
    "    input_data = pd.DataFrame([[age, income, rating, student]], columns=['age', 'income', 'credit_rating', 'student'])\n",
    "\n",
    "\n",
    "    for column in input_data.columns:\n",
    "        input_data[column] = label_encoders[column].transform(input_data[column])\n",
    "\n",
    "\n",
    "    input_data = input_data[['age', 'income', 'student', 'credit_rating']]\n",
    "\n",
    "    prediction = model.predict(input_data)\n",
    "\n",
    "\n",
    "    predicted_class = label_encoders['buys_computer'].inverse_transform(prediction)\n",
    "\n",
    "    print(f'Predicted class : {predicted_class[0]}')"
   ]
  },
  {
   "cell_type": "code",
   "execution_count": null,
   "id": "4dc7a324",
   "metadata": {},
   "outputs": [],
   "source": []
  }
 ],
 "metadata": {
  "kernelspec": {
   "display_name": "myenv",
   "language": "python",
   "name": "python3"
  },
  "language_info": {
   "codemirror_mode": {
    "name": "ipython",
    "version": 3
   },
   "file_extension": ".py",
   "mimetype": "text/x-python",
   "name": "python",
   "nbconvert_exporter": "python",
   "pygments_lexer": "ipython3",
   "version": "3.12.3"
  }
 },
 "nbformat": 4,
 "nbformat_minor": 5
}
