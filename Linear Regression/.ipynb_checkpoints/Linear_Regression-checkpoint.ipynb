{
 "cells": [
  {
   "cell_type": "code",
   "execution_count": 1,
   "id": "c6671c10",
   "metadata": {},
   "outputs": [],
   "source": [
    "import pandas as pd\n",
    "import matplotlib.pyplot as plt\n",
    "import numpy as np"
   ]
  },
  {
   "cell_type": "code",
   "execution_count": 9,
   "id": "e3ac7cdb",
   "metadata": {},
   "outputs": [],
   "source": [
    "dataFrame = pd.read_excel(r'Linear_Regression_Input_Training.xlsx')"
   ]
  },
  {
   "cell_type": "code",
   "execution_count": 10,
   "id": "8a21a3f2",
   "metadata": {},
   "outputs": [
    {
     "name": "stdout",
     "output_type": "stream",
     "text": [
      "   Hours  Marks\n",
      "0      2     69\n",
      "1      9     98\n",
      "2      5     82\n",
      "3      5     77\n",
      "4      3     71\n",
      "5      7     84\n",
      "6      1     55\n"
     ]
    }
   ],
   "source": [
    "print(dataFrame)"
   ]
  },
  {
   "cell_type": "code",
   "execution_count": 11,
   "id": "4f530f3c",
   "metadata": {},
   "outputs": [
    {
     "name": "stdout",
     "output_type": "stream",
     "text": [
      "4.571428571428571\n",
      "76.57142857142857\n"
     ]
    }
   ],
   "source": [
    "avgX = dataFrame.Hours.mean()\n",
    "print(avgX)\n",
    "avgY = dataFrame.Marks.mean()\n",
    "print(avgY)"
   ]
  },
  {
   "cell_type": "code",
   "execution_count": 12,
   "id": "64208590",
   "metadata": {},
   "outputs": [],
   "source": [
    "def calculate_B_Value(dataFrame,avgX,avgY) -> float:\n",
    "    dataFrame['val1'] = (dataFrame['Hours']-avgX)*(dataFrame['Marks']-avgY)\n",
    "    dataFrame['val2'] = (dataFrame['Hours']-avgX)**2\n",
    "    return dataFrame['val1'].sum() / dataFrame['val2'].sum()\n",
    "# In y = a + bx\n",
    "b = calculate_B_Value(dataFrame,avgX,avgY)\n",
    "a = avgY - b*avgX\n"
   ]
  },
  {
   "cell_type": "code",
   "execution_count": 13,
   "id": "b76a520d",
   "metadata": {},
   "outputs": [
    {
     "name": "stdout",
     "output_type": "stream",
     "text": [
      "Results of Test Data: \n",
      "    Hours  Predicted Marks\n",
      "0      8        92.431138\n",
      "1      6        83.179641\n",
      "2      2        64.676647\n"
     ]
    }
   ],
   "source": [
    "def predictNewValue(newVal):\n",
    "    return a+b*newVal\n",
    "\n",
    "dfTest = pd.read_excel(r'Linear_Regression_Input_Testing.xlsx')\n",
    "dfTest['Predicted Marks'] = dfTest['Hours'].apply(predictNewValue)\n",
    "\n",
    "print(\"Results of Test Data: \\n\",dfTest)"
   ]
  },
  {
   "cell_type": "code",
   "execution_count": 14,
   "id": "e00b20e7",
   "metadata": {},
   "outputs": [],
   "source": [
    "# dataFrame.plot(kind = 'scatter', x='Hours', y='Marks')"
   ]
  },
  {
   "cell_type": "code",
   "execution_count": 15,
   "id": "125b4794",
   "metadata": {},
   "outputs": [
    {
     "data": {
      "text/plain": [
       "<matplotlib.collections.PathCollection at 0x19d483f42b0>"
      ]
     },
     "execution_count": 15,
     "metadata": {},
     "output_type": "execute_result"
    },
    {
     "data": {
      "image/png": "[encoded data removed]",
      "text/plain": [
       "<Figure size 640x480 with 1 Axes>"
      ]
     },
     "metadata": {},
     "output_type": "display_data"
    }
   ],
   "source": [
    "xAxis = np.linspace(0,10,100)\n",
    "yAxis = a + b*xAxis\n",
    "plt.xlabel(\"Hours\")\n",
    "plt.xlabel(\"Marks\")\n",
    "plt.plot(xAxis,yAxis , color = 'red')\n",
    "plt.scatter(dataFrame['Hours'],dataFrame['Marks'])"
   ]
  },
  {
   "cell_type": "code",
   "execution_count": null,
   "id": "29451fcb",
   "metadata": {},
   "outputs": [],
   "source": []
  },
  {
   "cell_type": "code",
   "execution_count": null,
   "id": "e79a5d39",
   "metadata": {},
   "outputs": [],
   "source": []
  },
  {
   "cell_type": "code",
   "execution_count": null,
   "id": "eaeb8fbd",
   "metadata": {},
   "outputs": [],
   "source": []
  },
  {
   "cell_type": "code",
   "execution_count": null,
   "id": "6c548a67",
   "metadata": {},
   "outputs": [],
   "source": []
  },
  {
   "cell_type": "code",
   "execution_count": null,
   "id": "c815c39a",
   "metadata": {},
   "outputs": [],
   "source": []
  }
 ],
 "metadata": {
  "kernelspec": {
   "display_name": "Python 3 (ipykernel)",
   "language": "python",
   "name": "python3"
  },
  "language_info": {
   "codemirror_mode": {
    "name": "ipython",
    "version": 3
   },
   "file_extension": ".py",
   "mimetype": "text/x-python",
   "name": "python",
   "nbconvert_exporter": "python",
   "pygments_lexer": "ipython3",
   "version": "3.10.9"
  }
 },
 "nbformat": 4,
 "nbformat_minor": 5
}
