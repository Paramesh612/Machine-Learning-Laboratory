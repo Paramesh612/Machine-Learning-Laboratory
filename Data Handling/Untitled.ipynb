{
 "cells": [
  {
   "cell_type": "code",
   "execution_count": 1,
   "id": "e377299b",
   "metadata": {},
   "outputs": [],
   "source": [
    "import numpy as np"
   ]
  },
  {
   "cell_type": "code",
   "execution_count": 2,
   "id": "b42d80b5",
   "metadata": {},
   "outputs": [],
   "source": [
    "structure = np.dtype([('name',(np.str_,20)), ('age',np.int32), ('grade',(np.str_,1))])"
   ]
  },
  {
   "cell_type": "code",
   "execution_count": 7,
   "id": "a89ad9a3",
   "metadata": {},
   "outputs": [],
   "source": [
    "arr = np.array([('Kaaren',24,'A'),('Raamen',12,'B'),('Booman',43,'O'),('Keeran',24,'B'),('Neeran',21,'B')],dtype=structure)"
   ]
  },
  {
   "cell_type": "code",
   "execution_count": 8,
   "id": "1da19ee8",
   "metadata": {},
   "outputs": [
    {
     "name": "stdout",
     "output_type": "stream",
     "text": [
      "[('Kaaren', 24, 'A') ('Raamen', 12, 'B') ('Booman', 43, 'O')\n",
      " ('Keeran', 24, 'B') ('Neeran', 21, 'B')]\n"
     ]
    }
   ],
   "source": [
    "print(arr)"
   ]
  },
  {
   "cell_type": "code",
   "execution_count": 12,
   "id": "57c0e714",
   "metadata": {},
   "outputs": [],
   "source": [
    "arr[0][1]=88"
   ]
  },
  {
   "cell_type": "code",
   "execution_count": 13,
   "id": "a135e22d",
   "metadata": {},
   "outputs": [
    {
     "name": "stdout",
     "output_type": "stream",
     "text": [
      "('Kaaren', 88, 'A')\n"
     ]
    }
   ],
   "source": [
    "print(arr[0])"
   ]
  },
  {
   "cell_type": "code",
   "execution_count": null,
   "id": "9ec0b253",
   "metadata": {},
   "outputs": [],
   "source": []
  }
 ],
 "metadata": {
  "kernelspec": {
   "display_name": "Python 3 (ipykernel)",
   "language": "python",
   "name": "python3"
  },
  "language_info": {
   "codemirror_mode": {
    "name": "ipython",
    "version": 3
   },
   "file_extension": ".py",
   "mimetype": "text/x-python",
   "name": "python",
   "nbconvert_exporter": "python",
   "pygments_lexer": "ipython3",
   "version": "3.10.9"
  }
 },
 "nbformat": 4,
 "nbformat_minor": 5
}
