{
 "cells": [
  {
   "cell_type": "code",
   "execution_count": 159,
   "metadata": {},
   "outputs": [],
   "source": [
    "import numpy as np\n",
    "import math\n",
    "import matplotlib.pyplot as plt\n",
    "from random import randint"
   ]
  },
  {
   "cell_type": "code",
   "execution_count": 160,
   "metadata": {},
   "outputs": [
    {
     "name": "stdout",
     "output_type": "stream",
     "text": [
      "1\n"
     ]
    }
   ],
   "source": [
    "print(chr(1+48))"
   ]
  },
  {
   "cell_type": "code",
   "execution_count": 161,
   "metadata": {},
   "outputs": [],
   "source": [
    "def Euclidean_Distance(a,b):\n",
    "    return math.sqrt( (a[0]-b[0])**2 + (a[1]-b[1])**2 )\n",
    "\n",
    "def generate_input_matrix(input_points,n):\n",
    "    mat = np.empty([4,4])\n",
    "    for i in range(n):\n",
    "        for j in range(n):\n",
    "        # mat[i,j] = math.dist(input_points[i],input_points[j])\n",
    "            mat[i,j] = Euclidean_Distance(input_points[i],input_points[j])\n",
    "    return mat\n"
   ]
  },
  {
   "cell_type": "code",
   "execution_count": 162,
   "metadata": {},
   "outputs": [
    {
     "name": "stdout",
     "output_type": "stream",
     "text": [
      "[[0.         5.83095189 7.28010989 8.94427191]\n",
      " [5.83095189 0.         5.         3.16227766]\n",
      " [7.28010989 5.         0.         6.70820393]\n",
      " [8.94427191 3.16227766 6.70820393 0.        ]]\n"
     ]
    }
   ],
   "source": [
    "n = 4\n",
    "input_points = [[0,0],[3,5],[7,2],[4,8]]\n",
    "POP_SIZE = 10\n",
    "mat = generate_input_matrix(input_points,n)\n",
    "print(mat)\n"
   ]
  },
  {
   "cell_type": "code",
   "execution_count": null,
   "metadata": {},
   "outputs": [],
   "source": [
    "class individual:\n",
    "    def __init__(self) -> None:\n",
    "        self.gnome = \"\"                                                         \n",
    "        self.fitness = 0\n",
    "\n",
    "    def __lt__(self, other):\n",
    "        return self.fitness < other.fitness\n",
    "\n",
    "    def __gt__(self, other):\n",
    "        return self.fitness > other.fitness"
   ]
  },
  {
   "cell_type": "code",
   "execution_count": 164,
   "metadata": {},
   "outputs": [],
   "source": [
    "def repeat(s, ch):\n",
    "    for i in range(len(s)):\n",
    "        if s[i] == ch:\n",
    "            return True\n",
    "\n",
    "    return False"
   ]
  },
  {
   "cell_type": "code",
   "execution_count": 165,
   "metadata": {},
   "outputs": [],
   "source": [
    "def create_gnome():\n",
    "    gnome = \"0\"\n",
    "    \n",
    "    while True:\n",
    "        if len(gnome)==(n):\n",
    "            gnome+=\"0\"\n",
    "            break\n",
    "\n",
    "        temp = randint(1,n-1)\n",
    "        if not repeat(gnome,chr(temp+48)):\n",
    "            gnome+=chr(temp+48)\n",
    "    return gnome\n"
   ]
  },
  {
   "cell_type": "code",
   "execution_count": 166,
   "metadata": {},
   "outputs": [
    {
     "name": "stdout",
     "output_type": "stream",
     "text": [
      "03210\n"
     ]
    }
   ],
   "source": [
    "print(create_gnome())"
   ]
  },
  {
   "cell_type": "code",
   "execution_count": 167,
   "metadata": {},
   "outputs": [],
   "source": [
    "def cal_fitness(str):\n",
    "    dist = 0\n",
    "    for i in range(1,len(str)):\n",
    "        dist += mat[int(str[i]) , int(str[i-1])]\n",
    "    return dist\n"
   ]
  },
  {
   "cell_type": "code",
   "execution_count": 168,
   "metadata": {},
   "outputs": [],
   "source": [
    "def mutatedGene(gnome):\n",
    "    gnome = list(gnome)\n",
    "    while True:\n",
    "        r = randint(1, n-1)\n",
    "        r1 = randint(1, n-1)\n",
    "        if r1 != r:\n",
    "            temp = gnome[r]\n",
    "            gnome[r] = gnome[r1]\n",
    "            gnome[r1] = temp\n",
    "            break\n",
    "    return ''.join(gnome)"
   ]
  },
  {
   "cell_type": "code",
   "execution_count": 169,
   "metadata": {},
   "outputs": [],
   "source": [
    "def cooldown(temp):\n",
    "    return (90 * temp) / 100"
   ]
  },
  {
   "cell_type": "code",
   "execution_count": 180,
   "metadata": {},
   "outputs": [
    {
     "name": "stdout",
     "output_type": "stream",
     "text": [
      "\n",
      "Initial population: \n",
      "GNOME     FITNESS VALUE\n",
      "\n",
      "02310 22.981543376793567\n",
      "01320 22.981543376793567\n",
      "02310 22.981543376793567\n",
      "01230 26.48342773734383\n",
      "03210 26.48342773734383\n",
      "01230 26.48342773734383\n",
      "03120 24.386659459448055\n",
      "03120 24.386659459448055\n",
      "03210 26.48342773734383\n",
      "03120 24.386659459448055\n",
      "\n",
      "Current Temp:  10000\n",
      "Generation:  1\n",
      "GNOME FITNESS_VALUE\n",
      "01320 22.981543376793567\n",
      "02310 22.981543376793567\n",
      "02130 24.386659459448055\n",
      "02130 24.386659459448055\n",
      "02130 24.386659459448055\n",
      "03210 26.48342773734383\n",
      "01320 22.981543376793567\n",
      "03120 24.386659459448055\n",
      "03210 26.48342773734383\n",
      "01230 26.48342773734383\n",
      "\n",
      "Current Temp:  9000.0\n",
      "Generation:  2\n",
      "GNOME FITNESS_VALUE\n",
      "02310 22.981543376793567\n",
      "03210 26.48342773734383\n",
      "03120 24.386659459448055\n",
      "02310 22.981543376793567\n",
      "03120 24.386659459448055\n",
      "01230 26.48342773734383\n",
      "02130 24.386659459448055\n",
      "01230 26.48342773734383\n",
      "02310 22.981543376793567\n",
      "01320 22.981543376793567\n",
      "\n",
      "Current Temp:  8100.0\n",
      "Generation:  3\n",
      "GNOME FITNESS_VALUE\n",
      "01320 22.981543376793567\n",
      "03210 26.48342773734383\n",
      "02130 24.386659459448055\n",
      "03120 24.386659459448055\n",
      "02130 24.386659459448055\n",
      "02130 24.386659459448055\n",
      "03120 24.386659459448055\n",
      "02310 22.981543376793567\n",
      "01320 22.981543376793567\n",
      "03210 26.48342773734383\n",
      "\n",
      "Current Temp:  7290.0\n",
      "Generation:  4\n",
      "GNOME FITNESS_VALUE\n",
      "02310 22.981543376793567\n",
      "02130 24.386659459448055\n",
      "03120 24.386659459448055\n",
      "02310 22.981543376793567\n",
      "02130 24.386659459448055\n",
      "03120 24.386659459448055\n",
      "03120 24.386659459448055\n",
      "03210 26.48342773734383\n",
      "01230 26.48342773734383\n",
      "03120 24.386659459448055\n",
      "\n",
      "Current Temp:  6561.0\n",
      "Generation:  5\n",
      "GNOME FITNESS_VALUE\n",
      "03210 26.48342773734383\n",
      "01320 22.981543376793567\n",
      "03120 24.386659459448055\n",
      "03210 26.48342773734383\n",
      "02310 22.981543376793567\n",
      "02130 24.386659459448055\n",
      "02130 24.386659459448055\n",
      "03210 26.48342773734383\n",
      "01230 26.48342773734383\n",
      "01320 22.981543376793567\n",
      "\n"
     ]
    },
    {
     "data": {
      "image/png": "[encoded data removed]",
      "text/plain": [
       "<Figure size 640x480 with 1 Axes>"
      ]
     },
     "metadata": {},
     "output_type": "display_data"
    }
   ],
   "source": [
    "\n",
    "def TSPUtil(mp):\n",
    "    # Generation number\n",
    "    gen = 1\n",
    "\n",
    "    # Total iterations (stop after these many generations)\n",
    "    thresh = 5\n",
    "\n",
    "    population = []\n",
    "    best_fitness_over_time = []  # List to store the best fitness values over time\n",
    "\n",
    "    # Create the initial population\n",
    "    for i in range(POP_SIZE):\n",
    "        temp = individual()\n",
    "        temp.gnome = create_gnome()\n",
    "        temp.fitness = cal_fitness(temp.gnome)\n",
    "        population.append(temp)\n",
    "\n",
    "    print(\"\\nInitial population: \\nGNOME     FITNESS VALUE\\n\")\n",
    "    for i in range(POP_SIZE):\n",
    "        print(population[i].gnome, population[i].fitness)\n",
    "    print()\n",
    "\n",
    "    found = False\n",
    "    temperature = 10000\n",
    "\n",
    "    while temperature > 1000 and gen <= thresh:\n",
    "        population.sort(key=lambda x: x.fitness)  # Sort population by fitness (best first)\n",
    "        print(\"Current Temp: \", temperature)\n",
    "        new_population = []\n",
    "\n",
    "        # Track the best fitness value of the generation\n",
    "        best_fitness_over_time.append(population[0].fitness)\n",
    "\n",
    "        for i in range(POP_SIZE):\n",
    "            p1 = population[i]\n",
    "\n",
    "            while True:\n",
    "                new_g = mutatedGene(p1.gnome)\n",
    "                new_gnome = individual()  # New individual\n",
    "                new_gnome.gnome = new_g\n",
    "                new_gnome.fitness = cal_fitness(new_gnome.gnome)\n",
    "\n",
    "                # If new individual is better or probabilistically accepted\n",
    "                if new_gnome.fitness <= population[i].fitness:\n",
    "                    new_population.append(new_gnome)\n",
    "                    break\n",
    "                else:\n",
    "                    prob = pow(2.7, -1 * (float(new_gnome.fitness - population[i].fitness) / temperature))\n",
    "                    if prob > 0.5:\n",
    "                        new_population.append(new_gnome)\n",
    "                        break\n",
    "\n",
    "        temperature = cooldown(temperature)\n",
    "        population = new_population\n",
    "        print(\"Generation: \", gen)\n",
    "        print(\"GNOME FITNESS_VALUE\")\n",
    "        for i in range(POP_SIZE):\n",
    "            print(population[i].gnome, population[i].fitness)\n",
    "        print()\n",
    "\n",
    "        gen += 1\n",
    "\n",
    "    plt.plot(range(1, gen), best_fitness_over_time)\n",
    "    plt.xlabel(\"Generation\")\n",
    "    plt.ylabel(\"Best Fitness Value\")\n",
    "    plt.title(\"Fitness Progression Over Generations\")\n",
    "    plt.show()\n",
    "\n",
    "# Call the TSPUtil function\n",
    "TSPUtil(None)\n"
   ]
  },
  {
   "cell_type": "code",
   "execution_count": 179,
   "metadata": {},
   "outputs": [
    {
     "name": "stdout",
     "output_type": "stream",
     "text": [
      "\n",
      "Initial population: \n",
      "GNOME     FITNESS VALUE\n",
      "\n",
      "02130 24.386659459448055\n",
      "01320 22.981543376793567\n",
      "02310 22.981543376793567\n",
      "01320 22.981543376793567\n",
      "01320 22.981543376793567\n",
      "01320 22.981543376793567\n",
      "01230 26.48342773734383\n",
      "03210 26.48342773734383\n",
      "01320 22.981543376793567\n",
      "03210 26.48342773734383\n",
      "\n",
      "Current Temp:  10000\n",
      "Generation:  1\n",
      "GNOME FITNESS_VALUE\n",
      "02310 22.981543376793567\n",
      "02130 24.386659459448055\n",
      "02310 22.981543376793567\n",
      "02310 22.981543376793567\n",
      "03120 24.386659459448055\n",
      "03120 24.386659459448055\n",
      "02310 22.981543376793567\n",
      "01320 22.981543376793567\n",
      "01230 26.48342773734383\n",
      "01230 26.48342773734383\n",
      "\n",
      "Current Temp:  9000.0\n",
      "Generation:  2\n",
      "GNOME FITNESS_VALUE\n",
      "03210 26.48342773734383\n",
      "03210 26.48342773734383\n",
      "03210 26.48342773734383\n",
      "02130 24.386659459448055\n",
      "01230 26.48342773734383\n",
      "01230 26.48342773734383\n",
      "01320 22.981543376793567\n",
      "02130 24.386659459448055\n",
      "03210 26.48342773734383\n",
      "02130 24.386659459448055\n",
      "\n",
      "Current Temp:  8100.0\n",
      "Generation:  3\n",
      "GNOME FITNESS_VALUE\n",
      "01230 26.48342773734383\n",
      "01230 26.48342773734383\n",
      "01230 26.48342773734383\n",
      "02310 22.981543376793567\n",
      "01230 26.48342773734383\n",
      "03120 24.386659459448055\n",
      "02310 22.981543376793567\n",
      "03210 26.48342773734383\n",
      "02130 24.386659459448055\n",
      "02310 22.981543376793567\n",
      "\n",
      "Current Temp:  7290.0\n",
      "Generation:  4\n",
      "GNOME FITNESS_VALUE\n",
      "02130 24.386659459448055\n",
      "01320 22.981543376793567\n",
      "02130 24.386659459448055\n",
      "03210 26.48342773734383\n",
      "02310 22.981543376793567\n",
      "02130 24.386659459448055\n",
      "03210 26.48342773734383\n",
      "02130 24.386659459448055\n",
      "03210 26.48342773734383\n",
      "02310 22.981543376793567\n",
      "\n",
      "Current Temp:  6561.0\n",
      "Generation:  5\n",
      "GNOME FITNESS_VALUE\n",
      "03120 24.386659459448055\n",
      "03210 26.48342773734383\n",
      "01320 22.981543376793567\n",
      "02310 22.981543376793567\n",
      "03120 24.386659459448055\n",
      "01230 26.48342773734383\n",
      "01230 26.48342773734383\n",
      "02310 22.981543376793567\n",
      "03120 24.386659459448055\n",
      "03120 24.386659459448055\n",
      "\n"
     ]
    },
    {
     "data": {
      "image/png": "[encoded data removed]",
      "text/plain": [
       "<Figure size 640x480 with 1 Axes>"
      ]
     },
     "metadata": {},
     "output_type": "display_data"
    }
   ],
   "source": [
    "TSPUtil(mat)"
   ]
  },
  {
   "cell_type": "code",
   "execution_count": null,
   "metadata": {},
   "outputs": [],
   "source": []
  }
 ],
 "metadata": {
  "kernelspec": {
   "display_name": "base",
   "language": "python",
   "name": "python3"
  },
  "language_info": {
   "codemirror_mode": {
    "name": "ipython",
    "version": 3
   },
   "file_extension": ".py",
   "mimetype": "text/x-python",
   "name": "python",
   "nbconvert_exporter": "python",
   "pygments_lexer": "ipython3",
   "version": "3.10.9"
  }
 },
 "nbformat": 4,
 "nbformat_minor": 2
}
